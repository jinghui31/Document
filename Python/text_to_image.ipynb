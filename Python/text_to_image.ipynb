{
 "cells": [
  {
   "cell_type": "code",
   "execution_count": 1,
   "metadata": {},
   "outputs": [],
   "source": [
    "import pygame"
   ]
  },
  {
   "cell_type": "code",
   "execution_count": 2,
   "metadata": {},
   "outputs": [],
   "source": [
    "#pygame初始化\n",
    "pygame.init()\n",
    "\n",
    "# 待转换文字\n",
    "text = u\"文字轉圖片\"\n",
    "\n",
    "#设置字体和字号\n",
    "font = pygame.font.SysFont('Microsoft YaHei', 64)\n",
    "\n",
    "#渲染图片，设置背景颜色和字体样式,前面的颜色是字体颜色\n",
    "ftext = font.render(text, True, (0, 0, 0),(255, 255, 255))\n",
    "\n",
    "#保存图片\n",
    "pygame.image.save(ftext, \"image.jpg\")#图片保存地址"
   ]
  },
  {
   "cell_type": "code",
   "execution_count": null,
   "metadata": {},
   "outputs": [],
   "source": []
  }
 ],
 "metadata": {
  "kernelspec": {
   "display_name": "Python 3",
   "language": "python",
   "name": "python3"
  },
  "language_info": {
   "codemirror_mode": {
    "name": "ipython",
    "version": 3
   },
   "file_extension": ".py",
   "mimetype": "text/x-python",
   "name": "python",
   "nbconvert_exporter": "python",
   "pygments_lexer": "ipython3",
   "version": "3.6.5"
  }
 },
 "nbformat": 4,
 "nbformat_minor": 2
}
