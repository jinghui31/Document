{
 "cells": [
  {
   "cell_type": "code",
   "execution_count": 4,
   "metadata": {},
   "outputs": [],
   "source": [
    "import redis\n",
    "import pymysql\n",
    "import json\n",
    "from datetime import datetime\n",
    "import time\n",
    "import random"
   ]
  },
  {
   "cell_type": "code",
   "execution_count": 5,
   "metadata": {},
   "outputs": [],
   "source": [
    "config_redis = {'host': 'localhost',\n",
    "                'port': 6379,\n",
    "                'db': 0,}\n",
    "\n",
    "config_mysql = {'host': 'localhost',\n",
    "                'port': 3306,\n",
    "                'user': 'root',\n",
    "                'password': 'test',\n",
    "                'db':'testdb'}"
   ]
  },
  {
   "cell_type": "code",
   "execution_count": 6,
   "metadata": {},
   "outputs": [],
   "source": [
    "pool_redis = redis.ConnectionPool(**config_redis)\n",
    "r = redis.StrictRedis(connection_pool = pool_redis)\n",
    "\n",
    "conn = pymysql.connect(**config_mysql)\n",
    "cur = conn.cursor()\n",
    "conn.autocommit(True)"
   ]
  },
  {
   "cell_type": "code",
   "execution_count": 122,
   "metadata": {},
   "outputs": [],
   "source": [
    "def sensor_list():\n",
    "    lists = [{'sensor_id': 't_001', 'machine_id': 't', 'name': 't_001', 'type': 'counter'},\n",
    "            {'sensor_id': 't_002', 'machine_id': 't', 'name': 't_002', 'type': 'towerlight'},\n",
    "            {'sensor_id': 's_001', 'machine_id': 's', 'name': 's_001', 'type': 'temperature'},\n",
    "            {'sensor_id': 's_002', 'machine_id': 's', 'name': 's_002', 'type': 'counter'}]\n",
    "    \n",
    "    sensors = {i['sensor_id']: i['type'] for i in lists}\n",
    "    r.delete('sensors')\n",
    "    r.hmset('sensors', sensors)\n",
    "\n",
    "    cur.execute(\"\"\"DROP TABLE IF EXISTS sensor\"\"\")\n",
    "    cur.execute(\"\"\"CREATE TABLE sensor (sensor_id VARCHAR(32), machine_id VARCHAR(32),\n",
    "                                        name VARCHAR(16) NOT NULL, type VARCHAR(16) NOT NULL)\"\"\")  \n",
    "    cur.execute(\"\"\"USE testdb\"\"\")\n",
    "    sql = \"\"\"INSERT INTO sensor VALUES (%s, %s, %s, %s)\"\"\"\n",
    "    for i in lists:\n",
    "        cur.execute(sql, (tuple(i.values())))"
   ]
  },
  {
   "cell_type": "code",
   "execution_count": 123,
   "metadata": {},
   "outputs": [],
   "source": [
    "sensor_list()"
   ]
  },
  {
   "cell_type": "code",
   "execution_count": null,
   "metadata": {},
   "outputs": [],
   "source": [
    "cur.execute(\"\"\"DROP TABLE IF EXISTS sensor\"\"\")\n",
    "cur.execute(\"\"\"CREATE TABLE sensor (sensor_id VARCHAR(32), machine_id VARCHAR(32),\n",
    "                                        name VARCHAR(16) NOT NULL, type VARCHAR(16) NOT NULL)\"\"\")\n",
    "sql = \"\"\"INSERT INTO sensor VALUES (%s, %s, %s, %s)\"\"\"\n",
    "for i in lists:\n",
    "cur.execute(sql, (tuple(i.values())))"
   ]
  },
  {
   "cell_type": "code",
   "execution_count": 8,
   "metadata": {},
   "outputs": [
    {
     "data": {
      "text/plain": [
       "[('t_001', 'w001', 'p001', '2018-05-28 15:38:27', 5),\n",
       " ('s_001', '2018-05-28 15:38:27', 40),\n",
       " ('t_002', '2018-05-28 15:38:27', '001')]"
      ]
     },
     "execution_count": 8,
     "metadata": {},
     "output_type": "execute_result"
    }
   ],
   "source": [
    "time_now = datetime.now().strftime('%Y-%m-%d %H:%M:%S')\n",
    "input_data = [('t_001', 'w001', 'p001', time_now, 5),\n",
    "                      ('s_001', time_now, 40),\n",
    "                      ('t_002', time_now, '001')]\n",
    "input_data"
   ]
  },
  {
   "cell_type": "code",
   "execution_count": 60,
   "metadata": {},
   "outputs": [
    {
     "name": "stdout",
     "output_type": "stream",
     "text": [
      "t_001\n",
      "s_001\n",
      "t_002\n"
     ]
    }
   ],
   "source": [
    "for i in input_data:\n",
    "    print(i[0])"
   ]
  },
  {
   "cell_type": "code",
   "execution_count": 219,
   "metadata": {},
   "outputs": [
    {
     "data": {
      "text/plain": [
       "'012'"
      ]
     },
     "execution_count": 219,
     "metadata": {},
     "output_type": "execute_result"
    }
   ],
   "source": [
    "# 重置抽樣，有機會抽到相同的元素\n",
    "''.join(map(str, random.choices([0, 1, 2], k = 3)))"
   ]
  },
  {
   "cell_type": "code",
   "execution_count": 53,
   "metadata": {},
   "outputs": [
    {
     "data": {
      "text/plain": [
       "{('s_001', '2018-05-28 12:08:32', 40),\n",
       " ('t_001', 'w001', 'p001', '2018-05-28 12:08:32', 5),\n",
       " ('t_002', '2018-05-28 12:08:32', '001')}"
      ]
     },
     "execution_count": 53,
     "metadata": {},
     "output_type": "execute_result"
    }
   ],
   "source": [
    "input_data.pop()\n",
    "input_data"
   ]
  },
  {
   "cell_type": "code",
   "execution_count": 120,
   "metadata": {},
   "outputs": [],
   "source": [
    "selfdict = {'id': 'a',\n",
    "                    'time': '2015-03-05 05:03:05',\n",
    "                    'v': 42.22\n",
    "                    }"
   ]
  },
  {
   "cell_type": "code",
   "execution_count": 121,
   "metadata": {},
   "outputs": [
    {
     "data": {
      "text/plain": [
       "1"
      ]
     },
     "execution_count": 121,
     "metadata": {},
     "output_type": "execute_result"
    }
   ],
   "source": [
    "sql = \"\"\"INSERT INTO temperature_data (sensor_id, datetime, value) VALUES (%s, %s, %s)\"\"\"\n",
    "cur.execute(sql ,(tuple(selfdict.values())))"
   ]
  },
  {
   "cell_type": "code",
   "execution_count": null,
   "metadata": {},
   "outputs": [],
   "source": [
    "sensors = {i['sensor_id']: i['type'] for i in lists}\n",
    "sensors"
   ]
  },
  {
   "cell_type": "code",
   "execution_count": 148,
   "metadata": {},
   "outputs": [
    {
     "name": "stdout",
     "output_type": "stream",
     "text": [
      "bbb\n"
     ]
    }
   ],
   "source": [
    "input_data = ('s001', '111', '222', '20150203', 5)\n",
    "type = r.hget('sensors', input_data[0])\n",
    "\n",
    "if type == b'counter':\n",
    "    print('aaa')\n",
    "elif type == b'towerlight':\n",
    "    print('aaa')\n",
    "elif type == b'tempuature':\n",
    "    print('aaa')\n",
    "else:\n",
    "    print('bbb')"
   ]
  },
  {
   "cell_type": "code",
   "execution_count": 96,
   "metadata": {},
   "outputs": [
    {
     "name": "stdout",
     "output_type": "stream",
     "text": [
      "{'counter'}\n"
     ]
    }
   ],
   "source": [
    "'''\n",
    "input_id = '555'\n",
    "sensor_type = {s['type'] for s in sensor if input_id in s['s_id']}\n",
    "if sensor_type == []:\n",
    "    print('nothing')\n",
    "else:\n",
    "    print(sensor_type)\n",
    "'''"
   ]
  }
 ],
 "metadata": {
  "kernelspec": {
   "display_name": "Python 3",
   "language": "python",
   "name": "python3"
  },
  "language_info": {
   "codemirror_mode": {
    "name": "ipython",
    "version": 3
   },
   "file_extension": ".py",
   "mimetype": "text/x-python",
   "name": "python",
   "nbconvert_exporter": "python",
   "pygments_lexer": "ipython3",
   "version": "3.6.5"
  }
 },
 "nbformat": 4,
 "nbformat_minor": 2
}
